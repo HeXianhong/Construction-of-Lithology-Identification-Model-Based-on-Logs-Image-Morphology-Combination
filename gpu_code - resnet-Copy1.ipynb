{
 "cells": [
  {
   "cell_type": "code",
   "execution_count": null,
   "id": "ab3e6e00-068c-4a28-968b-4dc48c90b86d",
   "metadata": {
    "tags": []
   },
   "outputs": [],
   "source": [
    "# -*- coding:utf-8 -*-\n",
    "import imageio\n",
    "import torch\n",
    "from torchvision import transforms\n",
    "from torchvision import models\n",
    "import torch.nn as nn\n",
    "from matplotlib import pyplot as plt\n",
    "import pandas as pd\n",
    "import os\n",
    "from torch import optim\n",
    "\n"
   ]
  },
  {
   "cell_type": "code",
   "execution_count": null,
   "id": "68044426-cb5e-4072-b797-9d020950fc2e",
   "metadata": {
    "tags": []
   },
   "outputs": [],
   "source": [
    "print(torch.cuda.device_count())"
   ]
  },
  {
   "cell_type": "code",
   "execution_count": null,
   "id": "7f44267a-fb77-488a-9f96-873cf5753d51",
   "metadata": {
    "tags": []
   },
   "outputs": [],
   "source": [
    "# Define a class to create dataset\n",
    "class Data_curves(torch.utils.data.Dataset):\n",
    "    def __init__(self, label_file, img_dir, transform=None, target_transform=None):\n",
    "        self.img_labels = pd.read_csv(label_file)\n",
    "        self.img_dir = img_dir\n",
    "        self.transform = transforms.ToTensor()\n",
    "        self.target_transform = target_transform\n",
    "\n",
    "    def __len__(self):\n",
    "        return len(self.img_labels)\n",
    "\n",
    "    def __getitem__(self, idx):\n",
    "        img_path = os.path.join(self.img_dir, self.img_labels.iloc[idx, 0])\n",
    "        #print(img_path)\n",
    "        image = imageio.imread(img_path)\n",
    "        label = self.img_labels.iloc[idx, 1]\n",
    "        if self.transform:\n",
    "            image = self.transform(image)\n",
    "        if self.target_transform:\n",
    "            label = self.target_transform(label)\n",
    "        return image, label\n",
    "    \n",
    "\n",
    "img1_dir = \"trainFile_path\"    \n",
    "label1_file = \"trainLabelFile_path\"\n",
    "\n",
    "img2_dir = \"testFile_path\"    \n",
    "label2_file = \"testFile_path\"\n",
    "\n",
    "train_curves = Data_curves(label1_file, img1_dir)\n",
    "test_curves = Data_curves(label2_file, img2_dir)"
   ]
  },
  {
   "cell_type": "code",
   "execution_count": null,
   "id": "ece54102-36d4-49a7-844f-0efc6deaf452",
   "metadata": {
    "tags": []
   },
   "outputs": [],
   "source": [
    "# Use utils.data.Dataloader importing dataset\n",
    "from torch.utils.data import DataLoader\n",
    "train_dataloader = DataLoader(train_curves)\n",
    "test_dataloader = DataLoader(test_curves)"
   ]
  },
  {
   "cell_type": "code",
   "execution_count": null,
   "id": "4d8b88ea",
   "metadata": {
    "scrolled": true,
    "tags": []
   },
   "outputs": [],
   "source": [
    "# Select ResNet18 finishing pre-training process\n",
    "resnet18 = models.resnet18(weights=None)\n",
    "resnet18.fc = nn.Sequential(nn.Linear(in_features=512,out_features=5),\n",
    "                            \n",
    "                        nn.LogSoftmax(dim=1))"
   ]
  },
  {
   "cell_type": "code",
   "execution_count": null,
   "id": "c58f36ae-b0fb-495a-8774-f01b9615feb6",
   "metadata": {
    "tags": []
   },
   "outputs": [],
   "source": [
    "# Pre-training process setting\n",
    "import datetime  \n",
    "\n",
    "def training_loop(n_epochs, optimizer, model, loss_fn, train_dataloader):\n",
    "    for epoch in range(1, n_epochs + 1):  \n",
    "        loss_train = 0.0\n",
    "        for imgs, labels in train_dataloader:     \n",
    "            \n",
    "            labels = labels.to(device)\n",
    "            \n",
    "            imgs_t = imgs.to(device)\n",
    "            \n",
    "            #imgs_t = imgs_t.type(torch.float32)\n",
    "            \n",
    "            outputs = model(imgs_t)\n",
    "            \n",
    "            loss = loss_fn(outputs, labels)  \n",
    "\n",
    "            optimizer.zero_grad()  \n",
    "            \n",
    "            loss.backward()  \n",
    "            \n",
    "            optimizer.step()  \n",
    "\n",
    "            loss_train += loss.item()  \n",
    "\n",
    "        if epoch == 1 or epoch % 10 == 0:\n",
    "            print('{} Epoch {}, Training loss {}'.format(\n",
    "                datetime.datetime.now(), epoch,\n",
    "                loss_train / len(train_dataloader)))  \n"
   ]
  },
  {
   "cell_type": "code",
   "execution_count": null,
   "id": "c9667e1c-2221-487e-9544-c8355eed86b9",
   "metadata": {
    "tags": []
   },
   "outputs": [],
   "source": [
    "# Pre-training Process\n",
    "train_loader = torch.utils.data.DataLoader(train_curves, batch_size=32,\n",
    "                                           shuffle=True) \n",
    "\n",
    "device = torch.device(\"cuda:0\" if torch.cuda.is_available() else \"cpu\")\n",
    "# model = Net().to(device)\n",
    "model = resnet34.to(device)\n",
    "\n",
    "optimizer = optim.SGD(model.parameters(), lr=2e-3)\n",
    "loss_fn = nn.CrossEntropyLoss()\n",
    "\n",
    "training_loop( \n",
    "    n_epochs = 150,\n",
    "    optimizer = optimizer,\n",
    "    model = model,\n",
    "    loss_fn = loss_fn,\n",
    "    train_dataloader = train_loader,\n",
    ")"
   ]
  },
  {
   "cell_type": "code",
   "execution_count": null,
   "id": "b402f774",
   "metadata": {
    "scrolled": true,
    "tags": []
   },
   "outputs": [],
   "source": [
    "model = torch.save(model, \"pre_train_model.pt\")"
   ]
  },
  {
   "cell_type": "code",
   "execution_count": null,
   "id": "58a2d8f3-6d56-40f5-9e96-af42bca2350d",
   "metadata": {
    "tags": []
   },
   "outputs": [],
   "source": [
    "val_loader = torch.utils.data.DataLoader(test_curves, batch_size=1, \n",
    "                                          shuffle=False)\n",
    "\n",
    "correct = 0\n",
    "total = 0\n",
    "model = torch.load(\"pre_train_model.pt\")\n",
    "\n",
    "with torch.no_grad():\n",
    "    for imgs, labels in val_loader:\n",
    "        labels = labels.to(device)\n",
    "        imgs = imgs.to(device)\n",
    "        outputs = model(imgs)\n",
    "        _, predicted = torch.max(outputs, dim=1)\n",
    "        print(f\"predicted_result：{predicted}, label：{labels}\")\n",
    "        total += labels.shape[0]\n",
    "        correct += int((predicted == labels).sum())\n",
    "print(f\"accu：{correct/total}\")"
   ]
  },
  {
   "cell_type": "code",
   "execution_count": null,
   "id": "813ba52f-376f-40d7-81fd-a82ab82de259",
   "metadata": {},
   "outputs": [],
   "source": []
  }
 ],
 "metadata": {
  "kernelspec": {
   "display_name": "Python 3 (ipykernel)",
   "language": "python",
   "name": "python3"
  },
  "language_info": {
   "codemirror_mode": {
    "name": "ipython",
    "version": 3
   },
   "file_extension": ".py",
   "mimetype": "text/x-python",
   "name": "python",
   "nbconvert_exporter": "python",
   "pygments_lexer": "ipython3",
   "version": "3.8.10"
  }
 },
 "nbformat": 4,
 "nbformat_minor": 5
}
